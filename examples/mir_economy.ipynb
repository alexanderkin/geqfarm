{
 "cells": [
  {
   "cell_type": "markdown",
   "metadata": {},
   "source": [
    "# Modeling the Russian Mir\n",
    "## Land and labor allocations on a commune:a general equilibrium framework\n",
    "**Jonathan Conning** (Hunter College and The Graduate Center, CUNY) and **Aleksandr Michuda** (University of California, Davis)"
   ]
  },
  {
   "cell_type": "code",
   "execution_count": 1,
   "metadata": {
    "collapsed": false
   },
   "outputs": [
    {
     "name": "stdout",
     "output_type": "stream",
     "text": [
      "Last updated: Wed Sep 14 2016 12:43:18 \n"
     ]
    }
   ],
   "source": [
    "%reload_ext watermark\n",
    "%watermark -u -n -t "
   ]
  },
  {
   "cell_type": "markdown",
   "metadata": {},
   "source": [
    "This notebooks extends the general equilibrium farm distribution models found in the [geqfarm](https://github.com/jhconning/geqfarm) module o also include the possibility that the 'smallholder' sector is represented by a commune, which we model with the historical Russian Mir in mind."
   ]
  },
  {
   "cell_type": "markdown",
   "metadata": {},
   "source": [
    "### Preliminaries"
   ]
  },
  {
   "cell_type": "markdown",
   "metadata": {},
   "source": [
    "As a benchmark we start with a simplified statement of the problem with just two types of household group -- landlords and `peasants' and a very simple discrete distribution of farming skills.  We later generalize."
   ]
  },
  {
   "cell_type": "markdown",
   "metadata": {},
   "source": [
    "The economy has $\\overline{T}$ units of cultivable land and $\\overline{L}$ households with one unit of labor each. The economy-wide land to labor ratio is therefore $\\overline{t}=\\overline{T}/\\overline{L}$. \n",
    "\t\n",
    "Household are indexed $i=1..$ $\\overline{L}$ and each household has a non-traded farming skill level $s_{i}$ drawn from a known distribution $Z$. There is also an initial distribution of property rights over land. We'll make more flexible assumptions later but for now suffice to say that there is a group of \"landlord\" households (fraction $\\lambda $ of the total) who together own fraction $\\theta $ of the land endowment. The remaining fraction  $1-\\theta$ is controlled by the smallholder sector (possibly organized into a commune). \n",
    "\n",
    "In some scenarios below landlords will distort allocations by colluding to coordinate their factor market demands and supplies as if they were a single landlord monopoly `cartel'.   \n",
    "\n",
    "Depending on the scenario the commune also may or may not create its own distortions, principally by enforcing land allocationsto households in the commune based on an **egalitarian norm** (e.g. proportionate to demographic characteristics) rather than based on each smallholder's skill or productivity."
   ]
  },
  {
   "cell_type": "markdown",
   "metadata": {},
   "source": [
    "As the $\\lambda \\overline{L}$ landlord households own $\\theta \\overline{T}$ units of land, peasant households own the remaining $(1-\\theta )\\overline{T}$ units. The average non-landlord household therefore owns $\\frac{(1-\\theta )\\overline{t}}{(1-\\lambda )}$ units and, for the moment, all peasant households have the same initial land endowment. Under these assumptions it can be shown that the land Gini coefficient is exactly $\\left[ \\theta -\\lambda \\right] .$\n",
    "\t\n",
    "A single tradable good such as corn is produced and consumed in the economy at a unity price fixed by trade with the world market. \\ Households maximize utility from consumption subject to household income from farm production plus net factor sales.  \n",
    "\t\n",
    "All peasant households have access to the same production technology represented by a standard concave production function $\\widehat{F}(T,L,s)$ assumed for now to be linearly homogenous in its three arguments: land $T,$labor $L$, and a third factor which we label $s.$This last factor is assumed to be a non-traded factor that captures farming skill or labor supervision ability$.$  \n",
    "\n",
    "In the illustrative simulations below we assume a Cobb-Douglas form\n",
    "$$\\widehat{F}(T,L,s)=s^{1-\\gamma }\\cdot \\left[ T^{\\alpha }L^{1-\\alpha }\\right] ^{\\gamma }$$"
   ]
  },
  {
   "cell_type": "markdown",
   "metadata": {},
   "source": [
    "#### The Economy Class"
   ]
  },
  {
   "cell_type": "markdown",
   "metadata": {},
   "source": [
    "The python code relies on object oriented programming ideas.  We first define an Economy class. An instance of an Economy is an object with atributes describing the technology as well as an initial distribution of land and non-traded skills. The Economy class also includes methods for solving for and describing equilibrium allocations under different scenarios.  "
   ]
  },
  {
   "cell_type": "markdown",
   "metadata": {
    "collapsed": false
   },
   "source": [
    "Most of the code for this project is in the **geqfarm** module which includes these definitions. As this module is in a parent folder we add that source folder to the pythonpath so the import works."
   ]
  },
  {
   "cell_type": "code",
   "execution_count": 2,
   "metadata": {
    "collapsed": false
   },
   "outputs": [],
   "source": [
    "import sys\n",
    "sys.path.append('../')\n",
    "from geqfarm import *"
   ]
  },
  {
   "cell_type": "code",
   "execution_count": 16,
   "metadata": {
    "collapsed": false
   },
   "outputs": [],
   "source": [
    "import numpy as np\n",
    "from matplotlib import pyplot as plt\n",
    "import seaborn as sns\n",
    "plt.rcParams[\"figure.figsize\"] = (10, 8)\n",
    "\n",
    "np.set_printoptions(precision=4)\n",
    "%matplotlib inline"
   ]
  },
  {
   "cell_type": "code",
   "execution_count": 17,
   "metadata": {
    "collapsed": false
   },
   "outputs": [
    {
     "name": "stdout",
     "output_type": "stream",
     "text": [
      "The autoreload extension is already loaded. To reload it, use:\n",
      "  %reload_ext autoreload\n"
     ]
    }
   ],
   "source": [
    "%load_ext autoreload\n",
    "%autoreload 2"
   ]
  },
  {
   "cell_type": "markdown",
   "metadata": {},
   "source": [
    "## Model Scenarios"
   ]
  },
  {
   "cell_type": "markdown",
   "metadata": {},
   "source": [
    "We classify the scenarios we want to analyze into four possible scenarios depending on whether there are distortions in the way the landlord and/or the smallholder class allcates resources. On the landlord side we first consider **market power distortions** while on the smallholder side we mainly consider distortions due to the possible presence of a commune authority that allocates land to smallholder households according to an **egalitarian norm**, for example according to the demographic characteristics rather than on farming skill/productivity of the household."
   ]
  },
  {
   "cell_type": "markdown",
   "metadata": {},
   "source": [
    "![title](scenarios.png)"
   ]
  },
  {
   "cell_type": "markdown",
   "metadata": {},
   "source": [
    "**EE**: Landlord and smallholder groups allocate resources efficiently, so marginal products will be equalized across farms. This scenario would include perfect competition with no market imperfections as well as the 'efficient exploitation' scenario described below. \n",
    "\n",
    "**DE**:  Here the landlord faces a competitive fringe (who allocate resources efficiently within their subeconomy) but the landlord is able to exercise some monopoly-cum-monoposony power through land and labor markets due to their concentrated ownership of land and/or farming skill. This is the 'Latifundia Economics' equilibrium.  It's possible to interpret the smallholder sector as a commune under the assumption that the commune allocates resources efficiently.  We do not consider bilateral monopoly (where the commune acts as a syndicate in strategic competition with the landlord) although this would be an interesting extension.\n",
    "\n",
    "**ED**: In this scenario we imagine a commune embedded in an otherwise competitive economy. There distortions with...\n",
    "\n",
    "**DD**: ..."
   ]
  },
  {
   "cell_type": "markdown",
   "metadata": {},
   "source": [
    "To start simple assume that there just N=5 farmers each with a skill level normalized to 1.  "
   ]
  },
  {
   "cell_type": "code",
   "execution_count": 37,
   "metadata": {
    "collapsed": false
   },
   "outputs": [],
   "source": [
    "N = 5"
   ]
  },
  {
   "cell_type": "markdown",
   "metadata": {},
   "source": [
    "## Useful math preliminaries"
   ]
  },
  {
   "cell_type": "markdown",
   "metadata": {},
   "source": [
    "In an efficient equilibrium the first order necessary conditions for a maximum are that shadow prices are equalized across farms, and hence between landlord farms and all other farms. For any given smallholder farm $i$ we have:\n",
    "\n",
    "$$\n",
    "\\begin{eqnarray*}\n",
    "z_{R}F_{T}(T_{R},L_{R}) &=&z_{i}F_{T}(T_{i},L_{i}) \\\\\n",
    "z_{R}F_{L}(T_{R},L_{R}) &=&z_{i}F_{L}(T_{i},L_{i})\n",
    "\\end{eqnarray*}\n",
    "$$"
   ]
  },
  {
   "cell_type": "markdown",
   "metadata": {},
   "source": [
    " A farmer with skill $z_{i}$ will use fraction $\\tau _{i}$ of the land and labor input used by the landlord farm. Since $F$ is homogenous of degree $\\gamma ,$ Euler's theorem implies that $F_{T}$ will be homogenous of degree $\\gamma -1$, so we can rewrite the first FOC as \n",
    "$$ \n",
    "\\begin{eqnarray*}\n",
    "z_{R}F_{T}(T_{R},L_{R}) &=&z_{i}F_{T}(\\tau _{i}T_{R},\\tau _{i}L_{R}) \\\\\n",
    "z_{R}F_{T}(T_{R},L_{R}) &=&z_{i}\\cdot \\tau ^{\\gamma -1}\\cdot\n",
    "F_{T}(T_{R},L_{R})\n",
    "\\end{eqnarray*}\n",
    "$$\n",
    "\n",
    "to find that\n",
    "\n",
    "$$\n",
    "\\begin{equation*}\n",
    "\\tau _{i}=\\left( \\frac{z_{i}}{z_{R}}\\right) ^{\\frac{1}{1-\\gamma }}\n",
    "\\end{equation*}\n",
    "$$\n"
   ]
  },
  {
   "cell_type": "markdown",
   "metadata": {},
   "source": [
    "This implies that efficient equilibrium land and labor use by a farmer of skill $z_{i}$ can be expressed as being $\\tau_{i}$ as large as that of the landlord:  $T_{i}=\\tau_{i}T_{R}$ and $L_{i}=\\tau _{i}L_{R}$\n",
    "\n",
    "That also means that we can write:\n",
    "\n",
    "$$\n",
    "\\bar L = L_{R} \\left({\\sum_{i=1}^{N-1}\\tau _{i} + 1}\\right) \n",
    "$$\n",
    "\n",
    "$$\n",
    "\\bar T = T_{R} \\left({\\sum_{i=1}^{N-1}\\tau _{i} + 1}\\right) \n",
    "$$"
   ]
  },
  {
   "cell_type": "markdown",
   "metadata": {},
   "source": [
    "If the $z_i$ happen to be all the same, and hence the $\\tau_i = \\tau$ then equilibrium landlord factor use can be written:\n",
    "\n",
    "$$ T_R = \\frac{\\bar T}{(N-1)\\tau+1} $$\n",
    "\n",
    "$$ L_R = \\frac{\\bar L}{(N-1)\\tau+1} $$\n",
    "\n",
    "We'll also use formulas like these in the ED case below where we'll equalize marginal products on the landlord farm and the MIR as a corporation."
   ]
  },
  {
   "cell_type": "markdown",
   "metadata": {},
   "source": [
    "### The EE scenario (e.g. perfect competition)"
   ]
  },
  {
   "cell_type": "markdown",
   "metadata": {},
   "source": [
    "The following contrived example helps to starkly highlight the mechanisms behind the factor-market power distorted equilibrium."
   ]
  },
  {
   "cell_type": "markdown",
   "metadata": {},
   "source": [
    "Now create an economy and change a few parameters from their default.  The $\\gamma$ parameter which measures the degree of homogeneity in production is purposefully set very high.. We are very close to assuming constant returns to scale (but setting it just below 1 is needed to make sure the size-distribution remains determinate)."
   ]
  },
  {
   "cell_type": "code",
   "execution_count": 70,
   "metadata": {
    "collapsed": false
   },
   "outputs": [
    {
     "data": {
      "text/plain": [
       "99.99999999999991"
      ]
     },
     "execution_count": 70,
     "metadata": {},
     "output_type": "execute_result"
    }
   ],
   "source": [
    "1/(1-0.99)"
   ]
  },
  {
   "cell_type": "code",
   "execution_count": 38,
   "metadata": {
    "collapsed": false
   },
   "outputs": [],
   "source": [
    "E = Economy(N)    # an instance takes N length as parameter\n",
    "s = np.ones(N)    # skill distribution in the economy\n",
    "E.ALPHA = 0.5\n",
    "E.GAMMA = 0.90"
   ]
  },
  {
   "cell_type": "markdown",
   "metadata": {},
   "source": [
    "The Economy has default resource endowment:"
   ]
  },
  {
   "cell_type": "code",
   "execution_count": 39,
   "metadata": {
    "collapsed": false
   },
   "outputs": [
    {
     "data": {
      "text/plain": [
       "(100, 100)"
      ]
     },
     "execution_count": 39,
     "metadata": {},
     "output_type": "execute_result"
    }
   ],
   "source": [
    "E.TBAR,E.LBAR"
   ]
  },
  {
   "cell_type": "markdown",
   "metadata": {},
   "source": [
    "So as expected the efficient (competitive) resource allocation has every farmer operating a farm of equal unit size.  The smallhold_eq method gives the competitive (efficient) allocation for a subeconomy with XE = (TE,LE) endowments and skill distribution s. It returns a named tuple with equilibrium facor prices and X=[T,L] allocations.\n",
    "\n",
    "If XE and s are those of the entire economy then we've found the economywide competitive allocation.  "
   ]
  },
  {
   "cell_type": "code",
   "execution_count": 40,
   "metadata": {
    "collapsed": false
   },
   "outputs": [
    {
     "data": {
      "text/plain": [
       "result(w=array([ 0.3335,  0.3335]), X=array([[ 20.,  20.,  20.,  20.,  20.],\n",
       "       [ 20.,  20.,  20.,  20.,  20.]]))"
      ]
     },
     "execution_count": 40,
     "metadata": {},
     "output_type": "execute_result"
    }
   ],
   "source": [
    "Xc = E.smallhold_eq([E.TBAR,E.LBAR],s)\n",
    "Xc"
   ]
  },
  {
   "cell_type": "markdown",
   "metadata": {},
   "source": [
    "### The ED scenario (egalitarian commune in otherwise efficient)\n",
    "\n",
    "In this scenario the MIR assigns every household member an equal allocation of land and that there are no factor markets inside the MIR.   \n",
    "\n",
    "Define the average skill level inside the MIR:\n",
    "\n",
    "$$ \\hat{z}=\\frac{1}{(N-1)} \\sum\\limits_{i=1}^{N-1}z_{i} $$\n",
    "\n",
    "When the MIR as a whole gets an allocation $T^M$ and $L^M$:\n",
    "\n",
    "$$ T_{i}^{M}=\\frac{T^{m}}{(N-1)(\\overline{L}/N)}$$\n",
    "\n",
    "$$ L_{i}^{M}=\\frac{L^{m}}{(N-1)(\\overline{L}/N)}$$\n",
    "\n",
    "\n",
    "Then total output from an egalitarian MIR can be written:\n",
    "$$\n",
    "\\begin{eqnarray*}\n",
    "H(T_{i}^{m},L_{i}^{m}) &=&\\sum_{i=1}^{N-1}\\frac{\\overline{L}}{N}\\cdot\n",
    "z_{i}\\cdot F(T_{i}^{m},L_{i}^{m}) \\\\\n",
    "&=&\\widehat{z}(N-1)\\frac{\\overline{L}}{N}F(T_{i}^{m},L_{i}^{m})\n",
    "\\end{eqnarray*}\n",
    "$$"
   ]
  },
  {
   "cell_type": "markdown",
   "metadata": {},
   "source": [
    "Note that since $F$ is homogenous of degree $\\gamma $, $H$ is also\n",
    "homogenous of degree $\\gamma $, but $only$ under the institutional\n",
    "constraint that all households employ the same production technique,\n",
    "regardless of $z_{i}$."
   ]
  },
  {
   "cell_type": "markdown",
   "metadata": {},
   "source": [
    "**TO ADD/EXPLORE**:  We should investigate how heterogeneity in z inside the MIR lowers output.  For example:\n",
    "\n",
    "MIR A has skill distribution [1 , 1, 1, 1]\n",
    "\n",
    "MIR B has skill distribution [0 , 0, 0, 4]\n",
    "\n",
    "Both have average skill level of 1 and same total output (since F is CRS in T, L and S). However an egalitarian distribution has no efficiency effect in MIR A but disastrous output consequences in MIR B \n"
   ]
  },
  {
   "cell_type": "markdown",
   "metadata": {},
   "source": [
    "There are distortions within the MIR but we would expect the equalization of shadow prices between the landlord farm and the Mir as a corporation. \n",
    "\n",
    "It's as if in equilibrium there are just two types of firm in a competitive economy: landlord firms and egalitarian communes where each commune has an (average) productivity level $\\hat z$ as defined above.\n",
    "\n",
    "Working with our earlier trick involving a proportionality factor $\\tau$ we find:\n",
    "\n",
    "$$T_R = \\frac{N\\overline{t}}{(N-1)\\tau +1} $$\n",
    "$$L_R = \\frac{N}{(N-1)\\tau +1} $$\n",
    "\n",
    "where as before \n",
    "\n",
    "$$\\tau =\\left( \\frac{\\widehat{z}}{z_{R}}\\right) ^{\\frac{1}{1-\\gamma }}$$\n",
    "\n",
    "\n",
    "Shadow prices in the MIR are simply the \n",
    "\n",
    "$$\n",
    "\\begin{eqnarray*}\n",
    "r^{ed} &=&z_{R}\\cdot F_{T}\\left( \\frac{N\\overline{t}}{(N-1)\\tau +1},\n",
    "\\frac{N}{(N-1)\\tau +1}\\right) \\\\\n",
    "w^{ed} &=&z_{R}\\cdot F_{L}\\left( \\frac{N\\overline{t}}{(N-1)\\tau +1},\n",
    "\\frac{N}{(N-1)\\tau +1}\\right)\n",
    "\\end{eqnarray*}\n",
    "$$"
   ]
  },
  {
   "cell_type": "code",
   "execution_count": 64,
   "metadata": {
    "collapsed": true
   },
   "outputs": [],
   "source": [
    "N = 5\n",
    "mir = Economy(N)"
   ]
  },
  {
   "cell_type": "code",
   "execution_count": 68,
   "metadata": {
    "collapsed": false
   },
   "outputs": [
    {
     "data": {
      "text/plain": [
       "1.0"
      ]
     },
     "execution_count": 68,
     "metadata": {},
     "output_type": "execute_result"
    }
   ],
   "source": [
    "mir.s[1:].mean()"
   ]
  },
  {
   "cell_type": "code",
   "execution_count": null,
   "metadata": {
    "collapsed": true
   },
   "outputs": [],
   "source": [
    "zhat = (1/(N-1))*"
   ]
  },
  {
   "cell_type": "markdown",
   "metadata": {},
   "source": [
    "### The DE scenario (Latifundia)"
   ]
  },
  {
   "cell_type": "code",
   "execution_count": 41,
   "metadata": {
    "collapsed": false,
    "scrolled": false
   },
   "outputs": [
    {
     "name": "stdout",
     "output_type": "stream",
     "text": [
      "Running 10 scenarios...\n",
      "\n",
      "Assumed Parameters\n",
      "==================\n",
      "ALPHA  : 0.5 GAMMA  : 0.9 H      : 0.0 LAMBDA : 0.2\n",
      "LBAR   : 100 N      : 5 TBAR   : 100 s      : [ 1.  1.  1.  1.  1.]\n",
      "\n",
      "Effcient:[ Trc, Lrc]      [rc,wc]       w/r    F( )    [r*Tr]  [w*Lr] \n",
      "==============================================================================\n",
      "        [ 20.00, 20.00]  [0.33,0.33]   1.00  | 14.82    6.67     6.67 \n",
      "\n",
      "Theta  [ Tr, Lr ]      [rM,wM]        w/r  | F()   [T_hire]  [T_sale] [L_hire]\n",
      "==============================================================================\n",
      " 0.00  [ 17.56, 20.69] [ 0.33, 0.34]  1.04 | 14.19     5.74     0.00     7.03  \n",
      " 0.10  [ 18.57, 20.17] [ 0.33, 0.34]  1.02 | 14.39     6.13     3.30     6.79  \n",
      " 0.20  [ 20.00, 20.00] [ 0.33, 0.33]  1.00 | 14.82     6.67     6.67     6.67  \n",
      " 0.30  [ 21.95, 20.19] [ 0.34, 0.33]  0.98 | 15.52     7.41    10.13     6.67  \n",
      " 0.40  [ 24.58, 20.78] [ 0.34, 0.33]  0.95 | 16.55     8.43    13.72     6.79  \n",
      " 0.50  [ 28.15, 21.88] [ 0.35, 0.32]  0.92 | 18.00     9.85    17.50     7.04  \n",
      " 0.60  [ 33.08, 23.67] [ 0.36, 0.32]  0.88 | 20.05    11.92    21.61     7.47  \n",
      " 0.70  [ 40.17, 26.55] [ 0.38, 0.31]  0.81 | 23.05    15.13    26.36     8.14  \n",
      " 0.80  [ 51.31, 31.70] [ 0.41, 0.29]  0.71 | 27.87    20.94    32.65     9.22  \n",
      " 0.90  [ 74.78, 46.29] [ 0.53, 0.25]  0.47 | 39.14    39.33    47.34    11.43  \n",
      " 0.99  [ 99.90, 94.35] [    4, 0.07]  0.02 | 61.44   401.03   397.42     6.65  \n",
      "==============================================================================\n"
     ]
    }
   ],
   "source": [
    "(Xrc,Xr,wc,wr) = scene_print(E,10, detail=True)"
   ]
  },
  {
   "cell_type": "markdown",
   "metadata": {},
   "source": [
    "Thus far we've said nothing of the ownership of land or labor.  Let's assume every household has one unit of labor but that the 'landlord' class (which WLOG we index to be the last skill group s[-1]) owns fraction $\\theta$ of the land.  Assuming a uniform distribution of households across skills every skill group has Lbar/N households, and so there are that many landlords who act as a single cartel.\n",
    "\n",
    "The following code is useful for printing and plotting out equilibria as a function of initial landlords' land ownership share."
   ]
  },
  {
   "cell_type": "markdown",
   "metadata": {},
   "source": [
    "We pass our economy instance to the scenarios function and it solves for competitive and market-power equilibria (at different levels of theta) and prints out the results."
   ]
  },
  {
   "cell_type": "markdown",
   "metadata": {},
   "source": [
    "Let's plot the results.. THis is the classic diagram from Latifundia Economics.."
   ]
  },
  {
   "cell_type": "code",
   "execution_count": 42,
   "metadata": {
    "collapsed": false
   },
   "outputs": [
    {
     "data": {
      "image/png": "[encoded data removed]",
      "text/plain": [
       "<matplotlib.figure.Figure at 0x93d49e8>"
      ]
     },
     "metadata": {},
     "output_type": "display_data"
    }
   ],
   "source": [
    "factor_plot(E,Xrc,Xr)"
   ]
  },
  {
   "cell_type": "markdown",
   "metadata": {},
   "source": [
    "In the example above the 'landlord' farmer was in every way the same as the other farmers, the only difference being he had more land ownership (fraction $\\theta$ of the total). He had the same skill parameter as every other farmer. In an efficient equilibrium his operational farm size should therefore be the same size as every other farmer. The plot above shows how monopoly power (which rises with $\\theta$ allows the monopolist to distort the economy -- he withholds land from the lease market to drive up the land rental rate and, since this deprives the 'fringe' of farmers of land, lowers the marginal product of labor on each smallholder farm, increasing the smallholder labor supply to the market which pushes down the labor wage.  Hence we see how at higher levels of $\\theta$ the landlord expands the size of his estate and establish monopsony power wages."
   ]
  },
  {
   "cell_type": "markdown",
   "metadata": {},
   "source": [
    "A key force keeping the landlord from becoming too large is the fact that their are diseconomies of scale in production.  THe landlord is expanding the scale of his operation (raising the land to labor ration on his farm in this example) earn more via distorted factor prices, but he balances off the increase in extraction from disorted wages against the cost of operating an inefficiently large farm (i.e. the cost of being too big). \n",
    "\n",
    "Now let's see the effect of making the landlord just a little bit more 'skilled' than the others.  This lowers the cost of being big.  But note that it also makes him bigger at lower theta and makes what I call the 'size monopsony or 'Feenstra' effect matter more..\n",
    "\n",
    "So let's raise the landlord farmer's productivity 10% relative to the rest of the farmers."
   ]
  },
  {
   "cell_type": "code",
   "execution_count": 43,
   "metadata": {
    "collapsed": false
   },
   "outputs": [
    {
     "data": {
      "image/png": "[encoded data removed]",
      "text/plain": [
       "<matplotlib.figure.Figure at 0xa5622e8>"
      ]
     },
     "metadata": {},
     "output_type": "display_data"
    }
   ],
   "source": [
    "TLratio_plot(E,Xrc,Xr)"
   ]
  },
  {
   "cell_type": "code",
   "execution_count": 44,
   "metadata": {
    "collapsed": false
   },
   "outputs": [],
   "source": [
    "E.s[-1]=1.10"
   ]
  },
  {
   "cell_type": "markdown",
   "metadata": {},
   "source": [
    "Let's recalculate the new equilibria under the different scenarios."
   ]
  },
  {
   "cell_type": "code",
   "execution_count": 45,
   "metadata": {
    "collapsed": false
   },
   "outputs": [
    {
     "name": "stdout",
     "output_type": "stream",
     "text": [
      "Running 10 scenarios...\n",
      "\n",
      "Assumed Parameters\n",
      "==================\n",
      "ALPHA  : 0.5 GAMMA  : 0.9 H      : 0.0 LAMBDA : 0.2\n",
      "LBAR   : 100 N      : 5 TBAR   : 100 s      : [ 1.   1.   1.   1.   1.1]\n",
      "\n",
      "Effcient:[ Trc, Lrc]      [rc,wc]       w/r    F( )    [r*Tr]  [w*Lr] \n",
      "==============================================================================\n",
      "        [ 39.34, 39.34]  [0.34,0.34]   1.00  | 29.97   13.49    13.49 \n",
      "\n",
      "Theta  [ Tr, Lr ]      [rM,wM]        w/r  | F()   [T_hire]  [T_sale] [L_hire]\n",
      "==============================================================================\n",
      " 0.00  [ 30.67, 35.14] [ 0.33, 0.35]  1.07 | 25.47    10.07     0.00    12.33  \n",
      " 0.10  [ 32.24, 34.54] [ 0.33, 0.35]  1.04 | 25.84    10.76     3.34    11.94  \n",
      " 0.20  [ 34.32, 34.32] [ 0.34, 0.34]  1.00 | 26.51    11.68     6.80    11.68  \n",
      " 0.30  [ 37.05, 34.56] [ 0.35, 0.33]  0.96 | 27.52    12.88    10.43    11.55  \n",
      " 0.40  [ 40.60, 35.31] [ 0.36, 0.33]  0.92 | 28.96    14.50    14.28    11.58  \n",
      " 0.50  [ 45.23, 36.74] [ 0.37, 0.32]  0.87 | 30.95    16.72    18.48    11.76  \n",
      " 0.60  [ 51.36, 39.10] [ 0.39, 0.31]  0.80 | 33.70    19.92    23.27    12.11  \n",
      " 0.70  [ 59.75, 42.98] [ 0.42, 0.29]  0.71 | 37.65    24.97    29.25    12.68  \n",
      " 0.80  [ 71.98, 50.11] [ 0.48, 0.27]  0.56 | 43.86    34.56    38.42    13.51  \n",
      " 0.90  [ 90.93, 68.06] [ 0.73, 0.21]  0.28 | 55.93    66.42    65.74    14.12  \n",
      " 0.99  [ 99.92, 95.08] [  4.1, 0.07]  0.02 | 67.82   411.11   407.35     6.74  \n",
      "==============================================================================\n"
     ]
    }
   ],
   "source": [
    "(Xrc,Xr,wc,wr) = scene_print(E,10,detail=True)"
   ]
  },
  {
   "cell_type": "code",
   "execution_count": 46,
   "metadata": {
    "collapsed": false,
    "scrolled": false
   },
   "outputs": [
    {
     "data": {
      "image/png": "[encoded data removed]",
      "text/plain": [
       "<matplotlib.figure.Figure at 0xbd1b080>"
      ]
     },
     "metadata": {},
     "output_type": "display_data"
    }
   ],
   "source": [
    "factor_plot(E,Xrc,Xr)"
   ]
  },
  {
   "cell_type": "markdown",
   "metadata": {},
   "source": [
    "Given that he is more skilled than before the landlord's efficient scale of production has increased. This lowers the cost of being big.  Interestingly at low $\\theta$ this leads the landlord to hire less land and labor ..."
   ]
  },
  {
   "cell_type": "code",
   "execution_count": 47,
   "metadata": {
    "collapsed": false
   },
   "outputs": [
    {
     "data": {
      "image/png": "[encoded data removed]",
      "text/plain": [
       "<matplotlib.figure.Figure at 0x93e0a20>"
      ]
     },
     "metadata": {},
     "output_type": "display_data"
    }
   ],
   "source": [
    "TLratio_plot(E,Xrc,Xr)"
   ]
  },
  {
   "cell_type": "markdown",
   "metadata": {},
   "source": [
    "NEXT STEPS:\n",
    "Make the plot routines flexible to take multiple arguments to plot lines side by side e.g. factor_plot(Xrc0,Xr0,Xrc1,Xr1) would plot two scenarios on same figure."
   ]
  },
  {
   "cell_type": "markdown",
   "metadata": {
    "collapsed": true
   },
   "source": [
    "## The Russian Mir\n",
    "\n",
    "THis is not finished..."
   ]
  },
  {
   "cell_type": "markdown",
   "metadata": {},
   "source": [
    " EE(Competitive) and the ED (Latifundia) cases.  For example to find the competitive economy equilibrium we would use:\n",
    "\n",
    "`EE= Economy(5)`\n",
    "`res = EE.smallhold_eq([EE.TBAR, EE.LBAR], s, analytic=True)`\n",
    "\n",
    "EE is an instance of this economy which initializes various things to defaults and the **smallhold_eq** is a method in this class that solves for a competitive equilibrium (it can solve analytically for homothetic case or numerically more generally). If the skill vector s is for the entire economy then the above call gives a competitive equilibrium outcome when landlords have no market power.  The returned result res will be a named tuple that holds equilibrium factor prices (res.w) and equilibrium factor d...(line truncated)...\n"
   ]
  },
  {
   "cell_type": "markdown",
   "metadata": {},
   "source": [
    " now there is also a **MirEconomy** class that inherits from **Economy**.  These are economies where the smallholder sector are described by \n",
    "To instead find cartel 'Latifundia' equilibria for a theta of 0,8 we'd instead call on the **cartel_eq** method within the same Economy class:\n",
    "\n",
    "\n",
    "3/23/15 Have set up a new Class called MirEconomy that inherits all its attributes.  The idea is to just change the methods that describe the smallholder 'subeconomy'.  Rather than assuming a competitive smallholder sector (as in the Economy class) these methods will have same name but the subeconomy will now be a MIR. With that we should then have working ED and DD cases.  I haven't yet rewritten the code but we'd want to rewrite **demands()**, **excessD** and **smallhold_eq**.  **cartel_income** and **car...(line truncated)..."
   ]
  },
  {
   "cell_type": "code",
   "execution_count": 48,
   "metadata": {
    "collapsed": true
   },
   "outputs": [],
   "source": [
    "class MirEconomy(Economy):\n",
    "    \"\"\" sub class of Economy class but with Mir rules in subeconomy\n",
    "    \"\"\"\n",
    "    def __init__(self, N):  # constructor to set initial parameters.\n",
    "        super(MirEconomy, self).__init__(N)  # inherit properties\n",
    "        # if None supplied use defaults\n"
   ]
  },
  {
   "cell_type": "code",
   "execution_count": 62,
   "metadata": {
    "collapsed": true
   },
   "outputs": [],
   "source": [
    "mir = MirEconomy(N)"
   ]
  },
  {
   "cell_type": "code",
   "execution_count": 63,
   "metadata": {
    "collapsed": false
   },
   "outputs": [
    {
     "name": "stdout",
     "output_type": "stream",
     "text": [
      "ALPHA = 0.5, GAMMA = 0.8, H = 0.0, LAMBDA = 0.2, LBAR = 100, N = 5, TBAR = 100, s = [ 1.  1.  1.  1.  1.], "
     ]
    }
   ],
   "source": [
    "mir.print_params()"
   ]
  },
  {
   "cell_type": "code",
   "execution_count": null,
   "metadata": {
    "collapsed": true
   },
   "outputs": [],
   "source": []
  }
 ],
 "metadata": {
  "anaconda-cloud": {},
  "kernelspec": {
   "display_name": "Python [default]",
   "language": "python",
   "name": "python3"
  },
  "language_info": {
   "codemirror_mode": {
    "name": "ipython",
    "version": 3
   },
   "file_extension": ".py",
   "mimetype": "text/x-python",
   "name": "python",
   "nbconvert_exporter": "python",
   "pygments_lexer": "ipython3",
   "version": "3.5.2"
  }
 },
 "nbformat": 4,
 "nbformat_minor": 0
}
